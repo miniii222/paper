{
 "cells": [
  {
   "cell_type": "code",
   "execution_count": 3,
   "metadata": {
    "ExecuteTime": {
     "end_time": "2019-03-06T11:26:35.417327Z",
     "start_time": "2019-03-06T11:26:32.931824Z"
    }
   },
   "outputs": [],
   "source": [
    "import pandas as pd\n",
    "import numpy as np\n",
    "import xgboost as xgb\n",
    "import matplotlib.pyplot as plt"
   ]
  },
  {
   "cell_type": "markdown",
   "metadata": {},
   "source": [
    "- 세계에서 당뇨병 발병 비율이 가장 높은 애리조나 주의 피마 인디언 대상으로 조사한 데이터.\n",
    "- 임신 횟수, 혈압, 당뇨병 내력, 나이 등의 변수"
   ]
  },
  {
   "cell_type": "code",
   "execution_count": 16,
   "metadata": {
    "ExecuteTime": {
     "end_time": "2019-03-06T11:32:43.765709Z",
     "start_time": "2019-03-06T11:32:43.741775Z"
    }
   },
   "outputs": [
    {
     "data": {
      "text/html": [
       "<div>\n",
       "<style scoped>\n",
       "    .dataframe tbody tr th:only-of-type {\n",
       "        vertical-align: middle;\n",
       "    }\n",
       "\n",
       "    .dataframe tbody tr th {\n",
       "        vertical-align: top;\n",
       "    }\n",
       "\n",
       "    .dataframe thead th {\n",
       "        text-align: right;\n",
       "    }\n",
       "</style>\n",
       "<table border=\"1\" class=\"dataframe\">\n",
       "  <thead>\n",
       "    <tr style=\"text-align: right;\">\n",
       "      <th></th>\n",
       "      <th>X1</th>\n",
       "      <th>X2</th>\n",
       "      <th>X3</th>\n",
       "      <th>X4</th>\n",
       "      <th>X5</th>\n",
       "      <th>X6</th>\n",
       "      <th>X7</th>\n",
       "      <th>X8</th>\n",
       "      <th>Y</th>\n",
       "    </tr>\n",
       "  </thead>\n",
       "  <tbody>\n",
       "    <tr>\n",
       "      <th>0</th>\n",
       "      <td>6</td>\n",
       "      <td>148</td>\n",
       "      <td>72</td>\n",
       "      <td>35</td>\n",
       "      <td>0</td>\n",
       "      <td>33.6</td>\n",
       "      <td>0.627</td>\n",
       "      <td>50</td>\n",
       "      <td>1</td>\n",
       "    </tr>\n",
       "    <tr>\n",
       "      <th>1</th>\n",
       "      <td>1</td>\n",
       "      <td>85</td>\n",
       "      <td>66</td>\n",
       "      <td>29</td>\n",
       "      <td>0</td>\n",
       "      <td>26.6</td>\n",
       "      <td>0.351</td>\n",
       "      <td>31</td>\n",
       "      <td>0</td>\n",
       "    </tr>\n",
       "    <tr>\n",
       "      <th>2</th>\n",
       "      <td>8</td>\n",
       "      <td>183</td>\n",
       "      <td>64</td>\n",
       "      <td>0</td>\n",
       "      <td>0</td>\n",
       "      <td>23.3</td>\n",
       "      <td>0.672</td>\n",
       "      <td>32</td>\n",
       "      <td>1</td>\n",
       "    </tr>\n",
       "    <tr>\n",
       "      <th>3</th>\n",
       "      <td>1</td>\n",
       "      <td>89</td>\n",
       "      <td>66</td>\n",
       "      <td>23</td>\n",
       "      <td>94</td>\n",
       "      <td>28.1</td>\n",
       "      <td>0.167</td>\n",
       "      <td>21</td>\n",
       "      <td>0</td>\n",
       "    </tr>\n",
       "    <tr>\n",
       "      <th>4</th>\n",
       "      <td>0</td>\n",
       "      <td>137</td>\n",
       "      <td>40</td>\n",
       "      <td>35</td>\n",
       "      <td>168</td>\n",
       "      <td>43.1</td>\n",
       "      <td>2.288</td>\n",
       "      <td>33</td>\n",
       "      <td>1</td>\n",
       "    </tr>\n",
       "  </tbody>\n",
       "</table>\n",
       "</div>"
      ],
      "text/plain": [
       "   X1   X2  X3  X4   X5    X6     X7  X8  Y\n",
       "0   6  148  72  35    0  33.6  0.627  50  1\n",
       "1   1   85  66  29    0  26.6  0.351  31  0\n",
       "2   8  183  64   0    0  23.3  0.672  32  1\n",
       "3   1   89  66  23   94  28.1  0.167  21  0\n",
       "4   0  137  40  35  168  43.1  2.288  33  1"
      ]
     },
     "execution_count": 16,
     "metadata": {},
     "output_type": "execute_result"
    }
   ],
   "source": [
    "dataset = pd.read_csv('pima-indians-diabetes.csv', header = -1)\n",
    "dataset.columns = ['X'+ str(i+1) for i in range(8)] + ['Y']\n",
    "dataset.head()"
   ]
  },
  {
   "cell_type": "code",
   "execution_count": 56,
   "metadata": {
    "ExecuteTime": {
     "end_time": "2019-03-06T12:05:39.672054Z",
     "start_time": "2019-03-06T12:05:39.664263Z"
    }
   },
   "outputs": [],
   "source": [
    "X = dataset.iloc[:, :8]\n",
    "y = dataset.iloc[:, 8]"
   ]
  },
  {
   "cell_type": "code",
   "execution_count": 25,
   "metadata": {
    "ExecuteTime": {
     "end_time": "2019-03-06T11:36:42.085791Z",
     "start_time": "2019-03-06T11:36:42.077813Z"
    }
   },
   "outputs": [
    {
     "data": {
      "text/plain": [
       "0    500\n",
       "1    268\n",
       "Name: Y, dtype: int64"
      ]
     },
     "execution_count": 25,
     "metadata": {},
     "output_type": "execute_result"
    }
   ],
   "source": [
    "y.value_counts()"
   ]
  },
  {
   "cell_type": "markdown",
   "metadata": {},
   "source": [
    "# default model"
   ]
  },
  {
   "cell_type": "code",
   "execution_count": 62,
   "metadata": {
    "ExecuteTime": {
     "end_time": "2019-03-06T12:09:02.128066Z",
     "start_time": "2019-03-06T12:09:01.985529Z"
    }
   },
   "outputs": [
    {
     "data": {
      "text/plain": [
       "XGBClassifier(base_score=0.5, booster='gbtree', colsample_bylevel=1,\n",
       "       colsample_bytree=1, gamma=0, learning_rate=0.1, max_delta_step=0,\n",
       "       max_depth=3, min_child_weight=1, missing=None, n_estimators=100,\n",
       "       n_jobs=1, nthread=None, objective='binary:logistic', random_state=0,\n",
       "       reg_alpha=0, reg_lambda=1, scale_pos_weight=1, seed=None,\n",
       "       silent=True, subsample=1)"
      ]
     },
     "execution_count": 62,
     "metadata": {},
     "output_type": "execute_result"
    }
   ],
   "source": [
    "default_xgb = xgb.XGBClassifier()\n",
    "default_xgb.fit(X,y)"
   ]
  },
  {
   "cell_type": "code",
   "execution_count": 63,
   "metadata": {
    "ExecuteTime": {
     "end_time": "2019-03-06T12:09:08.144971Z",
     "start_time": "2019-03-06T12:09:07.825260Z"
    }
   },
   "outputs": [
    {
     "data": {
      "image/png": "[encoded data removed]",
      "text/plain": [
       "<Figure size 432x288 with 1 Axes>"
      ]
     },
     "metadata": {
      "needs_background": "light"
     },
     "output_type": "display_data"
    }
   ],
   "source": [
    "xgb.plot_importance(default_xgb)\n",
    "plt.show()"
   ]
  },
  {
   "cell_type": "code",
   "execution_count": 28,
   "metadata": {
    "ExecuteTime": {
     "end_time": "2019-03-06T11:41:41.739764Z",
     "start_time": "2019-03-06T11:41:41.734778Z"
    }
   },
   "outputs": [],
   "source": [
    "from sklearn.model_selection import KFold\n",
    "cv = KFold(5, shuffle=True, random_state=0)\n",
    "from sklearn.metrics import f1_score "
   ]
  },
  {
   "cell_type": "code",
   "execution_count": 99,
   "metadata": {
    "ExecuteTime": {
     "end_time": "2019-03-06T12:32:36.905509Z",
     "start_time": "2019-03-06T12:32:36.234347Z"
    }
   },
   "outputs": [
    {
     "name": "stdout",
     "output_type": "stream",
     "text": [
      "-----------xgb-----------\n",
      "[K = 0] train f1 = 0.8450704225352113, cv f1 = 0.7021276595744681\n",
      "-----------xgb-----------\n",
      "[K = 1] train f1 = 0.8507462686567164, cv f1 = 0.594059405940594\n",
      "-----------xgb-----------\n",
      "[K = 2] train f1 = 0.8291457286432161, cv f1 = 0.6779661016949152\n",
      "-----------xgb-----------\n",
      "[K = 3] train f1 = 0.8436724565756824, cv f1 = 0.6226415094339622\n",
      "-----------xgb-----------\n",
      "[K = 4] train f1 = 0.8497652582159624, cv f1 = 0.5714285714285714\n",
      "\n",
      "\n",
      "mean cv f1_score :  0.6336446496145023\n"
     ]
    }
   ],
   "source": [
    "default_cv = []\n",
    "for i, (idx_train, idx_cv) in enumerate(cv.split(dataset)):\n",
    "    df_train = dataset.iloc[idx_train]\n",
    "    df_cv = dataset.iloc[idx_cv]\n",
    "    \n",
    "    x_train = df_train.drop(['Y'], axis=1)\n",
    "    y_train = df_train['Y']\n",
    "    \n",
    "    x_cv = df_cv.drop(['Y'], axis=1)\n",
    "    y_cv = df_cv['Y']\n",
    "    \n",
    "    print('-----------xgb-----------')\n",
    "    default_xgb.fit(x_train, y_train)\n",
    "    y_pred = default_xgb.predict(x_cv)\n",
    "    print(\"[K = {}] train f1 = {}, cv f1 = {}\".format(i, f1_score(y_train, default_xgb.predict(x_train)), f1_score(y_cv, y_pred)))\n",
    "    default_cv.append(f1_score(y_cv, y_pred))\n",
    "    \n",
    "print('\\n')\n",
    "print('mean cv f1_score : ', np.mean(default_cv) )"
   ]
  },
  {
   "cell_type": "markdown",
   "metadata": {},
   "source": [
    "# hyperparameter tuning"
   ]
  },
  {
   "cell_type": "code",
   "execution_count": 38,
   "metadata": {
    "ExecuteTime": {
     "end_time": "2019-03-06T11:48:23.064930Z",
     "start_time": "2019-03-06T11:48:23.061932Z"
    }
   },
   "outputs": [],
   "source": [
    "import optuna\n",
    "import warnings"
   ]
  },
  {
   "cell_type": "code",
   "execution_count": 70,
   "metadata": {
    "ExecuteTime": {
     "end_time": "2019-03-06T12:15:16.233243Z",
     "start_time": "2019-03-06T12:15:16.227728Z"
    }
   },
   "outputs": [],
   "source": [
    "hyper = {\"learning_rate\"    : 0.1 ,\n",
    "         \"max_depth\"        : 3,\n",
    "         \"min_child_weight\" : 3,\n",
    "         \"gamma\"            : 0.1,\n",
    "         \"colsample_bytree\" : 0.3 }"
   ]
  },
  {
   "cell_type": "code",
   "execution_count": 76,
   "metadata": {
    "ExecuteTime": {
     "end_time": "2019-03-06T12:16:47.203229Z",
     "start_time": "2019-03-06T12:16:47.194990Z"
    }
   },
   "outputs": [],
   "source": [
    "tuned_xgb = xgb.XGBClassifier(learning_rate=hyper['learning_rate'],\n",
    "                             max_depth=hyper['max_depth'],\n",
    "                             min_child_weight=hyper['min_child_weight'],\n",
    "                             gamma=hyper['gamma'],\n",
    "                             colsample_bytree=hyper['colsample_bytree'])"
   ]
  },
  {
   "cell_type": "code",
   "execution_count": 100,
   "metadata": {
    "ExecuteTime": {
     "end_time": "2019-03-06T12:32:44.318066Z",
     "start_time": "2019-03-06T12:32:43.809081Z"
    }
   },
   "outputs": [
    {
     "name": "stdout",
     "output_type": "stream",
     "text": [
      "-----------xgb-----------\n",
      "[K = 0] train f1 = 0.8009478672985781, cv f1 = 0.7021276595744681\n",
      "-----------xgb-----------\n",
      "[K = 1] train f1 = 0.8101265822784811, cv f1 = 0.48837209302325574\n",
      "-----------xgb-----------\n",
      "[K = 2] train f1 = 0.797979797979798, cv f1 = 0.6956521739130435\n",
      "-----------xgb-----------\n",
      "[K = 3] train f1 = 0.7919799498746868, cv f1 = 0.5981308411214953\n",
      "-----------xgb-----------\n",
      "[K = 4] train f1 = 0.8162291169451074, cv f1 = 0.5494505494505494\n",
      "\n",
      "\n",
      "mean cv f1_score :  0.6067466634165624\n"
     ]
    }
   ],
   "source": [
    "tuned_cv = []\n",
    "\n",
    "for i, (idx_train, idx_cv) in enumerate(cv.split(dataset)):\n",
    "    df_train = dataset.iloc[idx_train]\n",
    "    df_cv = dataset.iloc[idx_cv]\n",
    "    \n",
    "    x_train = df_train.drop(['Y'], axis=1)\n",
    "    y_train = df_train['Y']\n",
    "    \n",
    "    x_cv = df_cv.drop(['Y'], axis=1)\n",
    "    y_cv = df_cv['Y']\n",
    "    \n",
    "    print('-----------xgb-----------')\n",
    "    tuned_xgb.fit(x_train, y_train)\n",
    "    y_pred = tuned_xgb.predict(x_cv)\n",
    "    print(\"[K = {}] train f1 = {}, cv f1 = {}\".format(i, f1_score(y_train, tuned_xgb.predict(x_train)), f1_score(y_cv, y_pred)))\n",
    "    tuned_cv.append(f1_score(y_cv, y_pred))\n",
    "    \n",
    "print('\\n')\n",
    "print('mean cv f1_score : ', np.mean(tuned_cv) )"
   ]
  },
  {
   "cell_type": "markdown",
   "metadata": {},
   "source": [
    "# optimal hyperparameter"
   ]
  },
  {
   "cell_type": "code",
   "execution_count": 114,
   "metadata": {
    "ExecuteTime": {
     "end_time": "2019-03-06T12:40:27.301861Z",
     "start_time": "2019-03-06T12:40:27.291556Z"
    }
   },
   "outputs": [],
   "source": [
    "def xgboost_hyper(trial) :\n",
    "    learning_rate = trial.suggest_uniform('learning_rate', 0,0.1)\n",
    "    max_depth = trial.suggest_int('max_depth', 6,15)\n",
    "    colsample_bytree = trial.suggest_uniform(\"colsample_bytree\" , 0,0.7)\n",
    "    \n",
    "    opt_xgb = xgb.XGBClassifier(learning_rate=learning_rate,\n",
    "                             max_depth=max_depth,\n",
    "                             colsample_bytree=colsample_bytree)\n",
    "    \n",
    "    opt_cv = []\n",
    "    #cv\n",
    "    for i, (idx_train, idx_cv) in enumerate(cv.split(dataset)):\n",
    "        df_train = dataset.iloc[idx_train]\n",
    "        df_cv = dataset.iloc[idx_cv]\n",
    "\n",
    "        x_train = df_train.drop(['Y'], axis=1)\n",
    "        y_train = df_train['Y']\n",
    "\n",
    "        x_cv = df_cv.drop(['Y'], axis=1)\n",
    "        y_cv = df_cv['Y']\n",
    "\n",
    "        opt_xgb.fit(x_train, y_train)\n",
    "        tuned_cv.append(f1_score(y_cv, opt_xgb.predict(x_cv)))\n",
    "    \n",
    "    return - np.mean(tuned_cv)"
   ]
  },
  {
   "cell_type": "code",
   "execution_count": 115,
   "metadata": {
    "ExecuteTime": {
     "end_time": "2019-03-06T12:41:51.015070Z",
     "start_time": "2019-03-06T12:40:27.683694Z"
    }
   },
   "outputs": [
    {
     "name": "stderr",
     "output_type": "stream",
     "text": [
      "[I 2019-03-06 21:40:28,678] Finished a trial resulted in value: -0.5856202362102819. Current best value is -0.5856202362102819 with parameters: {'learning_rate': 0.07539524538827853, 'max_depth': 9, 'colsample_bytree': 0.5808244190471302}.\n",
      "[I 2019-03-06 21:40:29,245] Finished a trial resulted in value: -0.5849535349507804. Current best value is -0.5856202362102819 with parameters: {'learning_rate': 0.07539524538827853, 'max_depth': 9, 'colsample_bytree': 0.5808244190471302}.\n",
      "[I 2019-03-06 21:40:29,736] Finished a trial resulted in value: -0.5847614607420965. Current best value is -0.5856202362102819 with parameters: {'learning_rate': 0.07539524538827853, 'max_depth': 9, 'colsample_bytree': 0.5808244190471302}.\n",
      "[I 2019-03-06 21:40:31,021] Finished a trial resulted in value: -0.5848670639939498. Current best value is -0.5856202362102819 with parameters: {'learning_rate': 0.07539524538827853, 'max_depth': 9, 'colsample_bytree': 0.5808244190471302}.\n",
      "[I 2019-03-06 21:40:31,654] Finished a trial resulted in value: -0.5846224722449206. Current best value is -0.5856202362102819 with parameters: {'learning_rate': 0.07539524538827853, 'max_depth': 9, 'colsample_bytree': 0.5808244190471302}.\n",
      "[I 2019-03-06 21:40:32,204] Finished a trial resulted in value: -0.5843768057108755. Current best value is -0.5856202362102819 with parameters: {'learning_rate': 0.07539524538827853, 'max_depth': 9, 'colsample_bytree': 0.5808244190471302}.\n",
      "[I 2019-03-06 21:40:33,224] Finished a trial resulted in value: -0.5844408917090445. Current best value is -0.5856202362102819 with parameters: {'learning_rate': 0.07539524538827853, 'max_depth': 9, 'colsample_bytree': 0.5808244190471302}.\n",
      "[I 2019-03-06 21:40:34,030] Finished a trial resulted in value: -0.5844973166002395. Current best value is -0.5856202362102819 with parameters: {'learning_rate': 0.07539524538827853, 'max_depth': 9, 'colsample_bytree': 0.5808244190471302}.\n",
      "[I 2019-03-06 21:40:34,503] Finished a trial resulted in value: -0.5843431956811601. Current best value is -0.5856202362102819 with parameters: {'learning_rate': 0.07539524538827853, 'max_depth': 9, 'colsample_bytree': 0.5808244190471302}.\n",
      "[I 2019-03-06 21:40:35,335] Finished a trial resulted in value: -0.5843478343399418. Current best value is -0.5856202362102819 with parameters: {'learning_rate': 0.07539524538827853, 'max_depth': 9, 'colsample_bytree': 0.5808244190471302}.\n",
      "[I 2019-03-06 21:40:36,243] Finished a trial resulted in value: -0.584351908013174. Current best value is -0.5856202362102819 with parameters: {'learning_rate': 0.07539524538827853, 'max_depth': 9, 'colsample_bytree': 0.5808244190471302}.\n",
      "[I 2019-03-06 21:40:37,258] Finished a trial resulted in value: -0.584404776282857. Current best value is -0.5856202362102819 with parameters: {'learning_rate': 0.07539524538827853, 'max_depth': 9, 'colsample_bytree': 0.5808244190471302}.\n",
      "[I 2019-03-06 21:40:37,832] Finished a trial resulted in value: -0.5842788733441413. Current best value is -0.5856202362102819 with parameters: {'learning_rate': 0.07539524538827853, 'max_depth': 9, 'colsample_bytree': 0.5808244190471302}.\n",
      "[I 2019-03-06 21:40:38,615] Finished a trial resulted in value: -0.5843365711671503. Current best value is -0.5856202362102819 with parameters: {'learning_rate': 0.07539524538827853, 'max_depth': 9, 'colsample_bytree': 0.5808244190471302}.\n",
      "[I 2019-03-06 21:40:39,814] Finished a trial resulted in value: -0.5844069365479884. Current best value is -0.5856202362102819 with parameters: {'learning_rate': 0.07539524538827853, 'max_depth': 9, 'colsample_bytree': 0.5808244190471302}.\n",
      "[I 2019-03-06 21:40:40,512] Finished a trial resulted in value: -0.5843745661176227. Current best value is -0.5856202362102819 with parameters: {'learning_rate': 0.07539524538827853, 'max_depth': 9, 'colsample_bytree': 0.5808244190471302}.\n",
      "[I 2019-03-06 21:40:41,606] Finished a trial resulted in value: -0.584467861082929. Current best value is -0.5856202362102819 with parameters: {'learning_rate': 0.07539524538827853, 'max_depth': 9, 'colsample_bytree': 0.5808244190471302}.\n",
      "[I 2019-03-06 21:40:42,163] Finished a trial resulted in value: -0.5840962251204237. Current best value is -0.5856202362102819 with parameters: {'learning_rate': 0.07539524538827853, 'max_depth': 9, 'colsample_bytree': 0.5808244190471302}.\n",
      "[I 2019-03-06 21:40:42,759] Finished a trial resulted in value: -0.583341061446513. Current best value is -0.5856202362102819 with parameters: {'learning_rate': 0.07539524538827853, 'max_depth': 9, 'colsample_bytree': 0.5808244190471302}.\n",
      "[I 2019-03-06 21:40:43,346] Finished a trial resulted in value: -0.5823327070768143. Current best value is -0.5856202362102819 with parameters: {'learning_rate': 0.07539524538827853, 'max_depth': 9, 'colsample_bytree': 0.5808244190471302}.\n",
      "[I 2019-03-06 21:40:44,135] Finished a trial resulted in value: -0.582187116466431. Current best value is -0.5856202362102819 with parameters: {'learning_rate': 0.07539524538827853, 'max_depth': 9, 'colsample_bytree': 0.5808244190471302}.\n",
      "[I 2019-03-06 21:40:44,807] Finished a trial resulted in value: -0.5820297494145688. Current best value is -0.5856202362102819 with parameters: {'learning_rate': 0.07539524538827853, 'max_depth': 9, 'colsample_bytree': 0.5808244190471302}.\n",
      "[I 2019-03-06 21:40:46,141] Finished a trial resulted in value: -0.5821134785724505. Current best value is -0.5856202362102819 with parameters: {'learning_rate': 0.07539524538827853, 'max_depth': 9, 'colsample_bytree': 0.5808244190471302}.\n",
      "[I 2019-03-06 21:40:47,318] Finished a trial resulted in value: -0.582201044120634. Current best value is -0.5856202362102819 with parameters: {'learning_rate': 0.07539524538827853, 'max_depth': 9, 'colsample_bytree': 0.5808244190471302}.\n",
      "[I 2019-03-06 21:40:48,359] Finished a trial resulted in value: -0.5821366766371038. Current best value is -0.5856202362102819 with parameters: {'learning_rate': 0.07539524538827853, 'max_depth': 9, 'colsample_bytree': 0.5808244190471302}.\n",
      "[I 2019-03-06 21:40:48,925] Finished a trial resulted in value: -0.5820050699806365. Current best value is -0.5856202362102819 with parameters: {'learning_rate': 0.07539524538827853, 'max_depth': 9, 'colsample_bytree': 0.5808244190471302}.\n",
      "[I 2019-03-06 21:40:49,360] Finished a trial resulted in value: -0.5815264081027078. Current best value is -0.5856202362102819 with parameters: {'learning_rate': 0.07539524538827853, 'max_depth': 9, 'colsample_bytree': 0.5808244190471302}.\n",
      "[I 2019-03-06 21:40:49,922] Finished a trial resulted in value: -0.5812418228273523. Current best value is -0.5856202362102819 with parameters: {'learning_rate': 0.07539524538827853, 'max_depth': 9, 'colsample_bytree': 0.5808244190471302}.\n",
      "[I 2019-03-06 21:40:50,529] Finished a trial resulted in value: -0.5812140316050891. Current best value is -0.5856202362102819 with parameters: {'learning_rate': 0.07539524538827853, 'max_depth': 9, 'colsample_bytree': 0.5808244190471302}.\n",
      "[I 2019-03-06 21:40:51,005] Finished a trial resulted in value: -0.5810469583451972. Current best value is -0.5856202362102819 with parameters: {'learning_rate': 0.07539524538827853, 'max_depth': 9, 'colsample_bytree': 0.5808244190471302}.\n",
      "[I 2019-03-06 21:40:52,150] Finished a trial resulted in value: -0.5811142457890929. Current best value is -0.5856202362102819 with parameters: {'learning_rate': 0.07539524538827853, 'max_depth': 9, 'colsample_bytree': 0.5808244190471302}.\n",
      "[I 2019-03-06 21:40:52,629] Finished a trial resulted in value: -0.5809871080971118. Current best value is -0.5856202362102819 with parameters: {'learning_rate': 0.07539524538827853, 'max_depth': 9, 'colsample_bytree': 0.5808244190471302}.\n",
      "[I 2019-03-06 21:40:53,412] Finished a trial resulted in value: -0.5808712051287414. Current best value is -0.5856202362102819 with parameters: {'learning_rate': 0.07539524538827853, 'max_depth': 9, 'colsample_bytree': 0.5808244190471302}.\n",
      "[I 2019-03-06 21:40:53,854] Finished a trial resulted in value: -0.5808006973329537. Current best value is -0.5856202362102819 with parameters: {'learning_rate': 0.07539524538827853, 'max_depth': 9, 'colsample_bytree': 0.5808244190471302}.\n"
     ]
    },
    {
     "name": "stderr",
     "output_type": "stream",
     "text": [
      "[I 2019-03-06 21:40:54,851] Finished a trial resulted in value: -0.5808883338570637. Current best value is -0.5856202362102819 with parameters: {'learning_rate': 0.07539524538827853, 'max_depth': 9, 'colsample_bytree': 0.5808244190471302}.\n",
      "[I 2019-03-06 21:40:55,863] Finished a trial resulted in value: -0.5808976241779736. Current best value is -0.5856202362102819 with parameters: {'learning_rate': 0.07539524538827853, 'max_depth': 9, 'colsample_bytree': 0.5808244190471302}.\n",
      "[I 2019-03-06 21:40:57,107] Finished a trial resulted in value: -0.5809890066748585. Current best value is -0.5856202362102819 with parameters: {'learning_rate': 0.07539524538827853, 'max_depth': 9, 'colsample_bytree': 0.5808244190471302}.\n",
      "[I 2019-03-06 21:40:57,684] Finished a trial resulted in value: -0.5804932201931965. Current best value is -0.5856202362102819 with parameters: {'learning_rate': 0.07539524538827853, 'max_depth': 9, 'colsample_bytree': 0.5808244190471302}.\n",
      "[I 2019-03-06 21:40:58,534] Finished a trial resulted in value: -0.5804256758239266. Current best value is -0.5856202362102819 with parameters: {'learning_rate': 0.07539524538827853, 'max_depth': 9, 'colsample_bytree': 0.5808244190471302}.\n",
      "[I 2019-03-06 21:40:59,532] Finished a trial resulted in value: -0.5804412832900003. Current best value is -0.5856202362102819 with parameters: {'learning_rate': 0.07539524538827853, 'max_depth': 9, 'colsample_bytree': 0.5808244190471302}.\n",
      "[I 2019-03-06 21:41:00,046] Finished a trial resulted in value: -0.5795650275777295. Current best value is -0.5856202362102819 with parameters: {'learning_rate': 0.07539524538827853, 'max_depth': 9, 'colsample_bytree': 0.5808244190471302}.\n",
      "[I 2019-03-06 21:41:00,761] Finished a trial resulted in value: -0.5796080074984907. Current best value is -0.5856202362102819 with parameters: {'learning_rate': 0.07539524538827853, 'max_depth': 9, 'colsample_bytree': 0.5808244190471302}.\n",
      "[I 2019-03-06 21:41:01,802] Finished a trial resulted in value: -0.5796814178238703. Current best value is -0.5856202362102819 with parameters: {'learning_rate': 0.07539524538827853, 'max_depth': 9, 'colsample_bytree': 0.5808244190471302}.\n",
      "[I 2019-03-06 21:41:02,897] Finished a trial resulted in value: -0.5797368358216717. Current best value is -0.5856202362102819 with parameters: {'learning_rate': 0.07539524538827853, 'max_depth': 9, 'colsample_bytree': 0.5808244190471302}.\n",
      "[I 2019-03-06 21:41:04,013] Finished a trial resulted in value: -0.579811775789939. Current best value is -0.5856202362102819 with parameters: {'learning_rate': 0.07539524538827853, 'max_depth': 9, 'colsample_bytree': 0.5808244190471302}.\n",
      "[I 2019-03-06 21:41:04,538] Finished a trial resulted in value: -0.5794083797970123. Current best value is -0.5856202362102819 with parameters: {'learning_rate': 0.07539524538827853, 'max_depth': 9, 'colsample_bytree': 0.5808244190471302}.\n",
      "[I 2019-03-06 21:41:05,365] Finished a trial resulted in value: -0.5794524798416711. Current best value is -0.5856202362102819 with parameters: {'learning_rate': 0.07539524538827853, 'max_depth': 9, 'colsample_bytree': 0.5808244190471302}.\n",
      "[I 2019-03-06 21:41:05,951] Finished a trial resulted in value: -0.5793816766550682. Current best value is -0.5856202362102819 with parameters: {'learning_rate': 0.07539524538827853, 'max_depth': 9, 'colsample_bytree': 0.5808244190471302}.\n",
      "[I 2019-03-06 21:41:06,751] Finished a trial resulted in value: -0.579157016609456. Current best value is -0.5856202362102819 with parameters: {'learning_rate': 0.07539524538827853, 'max_depth': 9, 'colsample_bytree': 0.5808244190471302}.\n",
      "[I 2019-03-06 21:41:07,359] Finished a trial resulted in value: -0.5790381104361695. Current best value is -0.5856202362102819 with parameters: {'learning_rate': 0.07539524538827853, 'max_depth': 9, 'colsample_bytree': 0.5808244190471302}.\n",
      "[I 2019-03-06 21:41:07,845] Finished a trial resulted in value: -0.5788753009232982. Current best value is -0.5856202362102819 with parameters: {'learning_rate': 0.07539524538827853, 'max_depth': 9, 'colsample_bytree': 0.5808244190471302}.\n",
      "[I 2019-03-06 21:41:09,039] Finished a trial resulted in value: -0.5789595519707554. Current best value is -0.5856202362102819 with parameters: {'learning_rate': 0.07539524538827853, 'max_depth': 9, 'colsample_bytree': 0.5808244190471302}.\n",
      "[I 2019-03-06 21:41:09,749] Finished a trial resulted in value: -0.5789969570008772. Current best value is -0.5856202362102819 with parameters: {'learning_rate': 0.07539524538827853, 'max_depth': 9, 'colsample_bytree': 0.5808244190471302}.\n",
      "[I 2019-03-06 21:41:10,940] Finished a trial resulted in value: -0.579054861648412. Current best value is -0.5856202362102819 with parameters: {'learning_rate': 0.07539524538827853, 'max_depth': 9, 'colsample_bytree': 0.5808244190471302}.\n",
      "[I 2019-03-06 21:41:11,519] Finished a trial resulted in value: -0.5788672111151553. Current best value is -0.5856202362102819 with parameters: {'learning_rate': 0.07539524538827853, 'max_depth': 9, 'colsample_bytree': 0.5808244190471302}.\n",
      "[I 2019-03-06 21:41:12,079] Finished a trial resulted in value: -0.5787330513709287. Current best value is -0.5856202362102819 with parameters: {'learning_rate': 0.07539524538827853, 'max_depth': 9, 'colsample_bytree': 0.5808244190471302}.\n",
      "[I 2019-03-06 21:41:13,189] Finished a trial resulted in value: -0.5788209661012315. Current best value is -0.5856202362102819 with parameters: {'learning_rate': 0.07539524538827853, 'max_depth': 9, 'colsample_bytree': 0.5808244190471302}.\n",
      "[I 2019-03-06 21:41:13,727] Finished a trial resulted in value: -0.5784941512056014. Current best value is -0.5856202362102819 with parameters: {'learning_rate': 0.07539524538827853, 'max_depth': 9, 'colsample_bytree': 0.5808244190471302}.\n",
      "[I 2019-03-06 21:41:14,697] Finished a trial resulted in value: -0.5785212761391908. Current best value is -0.5856202362102819 with parameters: {'learning_rate': 0.07539524538827853, 'max_depth': 9, 'colsample_bytree': 0.5808244190471302}.\n",
      "[I 2019-03-06 21:41:15,487] Finished a trial resulted in value: -0.5786094571770707. Current best value is -0.5856202362102819 with parameters: {'learning_rate': 0.07539524538827853, 'max_depth': 9, 'colsample_bytree': 0.5808244190471302}.\n",
      "[I 2019-03-06 21:41:16,565] Finished a trial resulted in value: -0.578661923751808. Current best value is -0.5856202362102819 with parameters: {'learning_rate': 0.07539524538827853, 'max_depth': 9, 'colsample_bytree': 0.5808244190471302}.\n",
      "[I 2019-03-06 21:41:17,130] Finished a trial resulted in value: -0.5785050293077451. Current best value is -0.5856202362102819 with parameters: {'learning_rate': 0.07539524538827853, 'max_depth': 9, 'colsample_bytree': 0.5808244190471302}.\n",
      "[I 2019-03-06 21:41:17,663] Finished a trial resulted in value: -0.5775181437308463. Current best value is -0.5856202362102819 with parameters: {'learning_rate': 0.07539524538827853, 'max_depth': 9, 'colsample_bytree': 0.5808244190471302}.\n",
      "[I 2019-03-06 21:41:18,483] Finished a trial resulted in value: -0.5774135558927839. Current best value is -0.5856202362102819 with parameters: {'learning_rate': 0.07539524538827853, 'max_depth': 9, 'colsample_bytree': 0.5808244190471302}.\n",
      "[I 2019-03-06 21:41:19,361] Finished a trial resulted in value: -0.5773225434611998. Current best value is -0.5856202362102819 with parameters: {'learning_rate': 0.07539524538827853, 'max_depth': 9, 'colsample_bytree': 0.5808244190471302}.\n",
      "[I 2019-03-06 21:41:20,595] Finished a trial resulted in value: -0.5774221754995682. Current best value is -0.5856202362102819 with parameters: {'learning_rate': 0.07539524538827853, 'max_depth': 9, 'colsample_bytree': 0.5808244190471302}.\n",
      "[I 2019-03-06 21:41:21,708] Finished a trial resulted in value: -0.5774977736860623. Current best value is -0.5856202362102819 with parameters: {'learning_rate': 0.07539524538827853, 'max_depth': 9, 'colsample_bytree': 0.5808244190471302}.\n",
      "[I 2019-03-06 21:41:22,802] Finished a trial resulted in value: -0.5775559750576857. Current best value is -0.5856202362102819 with parameters: {'learning_rate': 0.07539524538827853, 'max_depth': 9, 'colsample_bytree': 0.5808244190471302}.\n"
     ]
    },
    {
     "name": "stderr",
     "output_type": "stream",
     "text": [
      "[I 2019-03-06 21:41:24,044] Finished a trial resulted in value: -0.5776587408781598. Current best value is -0.5856202362102819 with parameters: {'learning_rate': 0.07539524538827853, 'max_depth': 9, 'colsample_bytree': 0.5808244190471302}.\n",
      "[I 2019-03-06 21:41:25,037] Finished a trial resulted in value: -0.5776442569074905. Current best value is -0.5856202362102819 with parameters: {'learning_rate': 0.07539524538827853, 'max_depth': 9, 'colsample_bytree': 0.5808244190471302}.\n",
      "[I 2019-03-06 21:41:26,163] Finished a trial resulted in value: -0.577710013210195. Current best value is -0.5856202362102819 with parameters: {'learning_rate': 0.07539524538827853, 'max_depth': 9, 'colsample_bytree': 0.5808244190471302}.\n",
      "[I 2019-03-06 21:41:27,131] Finished a trial resulted in value: -0.5777160345614522. Current best value is -0.5856202362102819 with parameters: {'learning_rate': 0.07539524538827853, 'max_depth': 9, 'colsample_bytree': 0.5808244190471302}.\n",
      "[I 2019-03-06 21:41:27,859] Finished a trial resulted in value: -0.5777019178336851. Current best value is -0.5856202362102819 with parameters: {'learning_rate': 0.07539524538827853, 'max_depth': 9, 'colsample_bytree': 0.5808244190471302}.\n",
      "[I 2019-03-06 21:41:28,395] Finished a trial resulted in value: -0.5773360898904866. Current best value is -0.5856202362102819 with parameters: {'learning_rate': 0.07539524538827853, 'max_depth': 9, 'colsample_bytree': 0.5808244190471302}.\n",
      "[I 2019-03-06 21:41:29,181] Finished a trial resulted in value: -0.5772652787610563. Current best value is -0.5856202362102819 with parameters: {'learning_rate': 0.07539524538827853, 'max_depth': 9, 'colsample_bytree': 0.5808244190471302}.\n",
      "[I 2019-03-06 21:41:30,120] Finished a trial resulted in value: -0.5772614874619975. Current best value is -0.5856202362102819 with parameters: {'learning_rate': 0.07539524538827853, 'max_depth': 9, 'colsample_bytree': 0.5808244190471302}.\n",
      "[I 2019-03-06 21:41:30,673] Finished a trial resulted in value: -0.5769613299857671. Current best value is -0.5856202362102819 with parameters: {'learning_rate': 0.07539524538827853, 'max_depth': 9, 'colsample_bytree': 0.5808244190471302}.\n",
      "[I 2019-03-06 21:41:31,845] Finished a trial resulted in value: -0.5770397664041627. Current best value is -0.5856202362102819 with parameters: {'learning_rate': 0.07539524538827853, 'max_depth': 9, 'colsample_bytree': 0.5808244190471302}.\n",
      "[I 2019-03-06 21:41:32,335] Finished a trial resulted in value: -0.5769051055333498. Current best value is -0.5856202362102819 with parameters: {'learning_rate': 0.07539524538827853, 'max_depth': 9, 'colsample_bytree': 0.5808244190471302}.\n",
      "[I 2019-03-06 21:41:32,855] Finished a trial resulted in value: -0.5767190992319126. Current best value is -0.5856202362102819 with parameters: {'learning_rate': 0.07539524538827853, 'max_depth': 9, 'colsample_bytree': 0.5808244190471302}.\n",
      "[I 2019-03-06 21:41:33,979] Finished a trial resulted in value: -0.5767938265159294. Current best value is -0.5856202362102819 with parameters: {'learning_rate': 0.07539524538827853, 'max_depth': 9, 'colsample_bytree': 0.5808244190471302}.\n",
      "[I 2019-03-06 21:41:35,226] Finished a trial resulted in value: -0.576870303875672. Current best value is -0.5856202362102819 with parameters: {'learning_rate': 0.07539524538827853, 'max_depth': 9, 'colsample_bytree': 0.5808244190471302}.\n",
      "[I 2019-03-06 21:41:36,338] Finished a trial resulted in value: -0.5769192826100626. Current best value is -0.5856202362102819 with parameters: {'learning_rate': 0.07539524538827853, 'max_depth': 9, 'colsample_bytree': 0.5808244190471302}.\n",
      "[I 2019-03-06 21:41:36,842] Finished a trial resulted in value: -0.5768529839242852. Current best value is -0.5856202362102819 with parameters: {'learning_rate': 0.07539524538827853, 'max_depth': 9, 'colsample_bytree': 0.5808244190471302}.\n",
      "[I 2019-03-06 21:41:37,579] Finished a trial resulted in value: -0.5766350457175667. Current best value is -0.5856202362102819 with parameters: {'learning_rate': 0.07539524538827853, 'max_depth': 9, 'colsample_bytree': 0.5808244190471302}.\n",
      "[I 2019-03-06 21:41:38,469] Finished a trial resulted in value: -0.5766451229918604. Current best value is -0.5856202362102819 with parameters: {'learning_rate': 0.07539524538827853, 'max_depth': 9, 'colsample_bytree': 0.5808244190471302}.\n",
      "[I 2019-03-06 21:41:39,762] Finished a trial resulted in value: -0.576700120046316. Current best value is -0.5856202362102819 with parameters: {'learning_rate': 0.07539524538827853, 'max_depth': 9, 'colsample_bytree': 0.5808244190471302}.\n",
      "[I 2019-03-06 21:41:40,331] Finished a trial resulted in value: -0.5764813389852016. Current best value is -0.5856202362102819 with parameters: {'learning_rate': 0.07539524538827853, 'max_depth': 9, 'colsample_bytree': 0.5808244190471302}.\n",
      "[I 2019-03-06 21:41:41,668] Finished a trial resulted in value: -0.576529020294213. Current best value is -0.5856202362102819 with parameters: {'learning_rate': 0.07539524538827853, 'max_depth': 9, 'colsample_bytree': 0.5808244190471302}.\n",
      "[I 2019-03-06 21:41:42,605] Finished a trial resulted in value: -0.5765660348773383. Current best value is -0.5856202362102819 with parameters: {'learning_rate': 0.07539524538827853, 'max_depth': 9, 'colsample_bytree': 0.5808244190471302}.\n",
      "[I 2019-03-06 21:41:43,864] Finished a trial resulted in value: -0.576671034955891. Current best value is -0.5856202362102819 with parameters: {'learning_rate': 0.07539524538827853, 'max_depth': 9, 'colsample_bytree': 0.5808244190471302}.\n",
      "[I 2019-03-06 21:41:44,384] Finished a trial resulted in value: -0.5765899633192629. Current best value is -0.5856202362102819 with parameters: {'learning_rate': 0.07539524538827853, 'max_depth': 9, 'colsample_bytree': 0.5808244190471302}.\n",
      "[I 2019-03-06 21:41:45,425] Finished a trial resulted in value: -0.5766536126442184. Current best value is -0.5856202362102819 with parameters: {'learning_rate': 0.07539524538827853, 'max_depth': 9, 'colsample_bytree': 0.5808244190471302}.\n",
      "[I 2019-03-06 21:41:45,974] Finished a trial resulted in value: -0.5757979136847983. Current best value is -0.5856202362102819 with parameters: {'learning_rate': 0.07539524538827853, 'max_depth': 9, 'colsample_bytree': 0.5808244190471302}.\n",
      "[I 2019-03-06 21:41:47,247] Finished a trial resulted in value: -0.5758633186036896. Current best value is -0.5856202362102819 with parameters: {'learning_rate': 0.07539524538827853, 'max_depth': 9, 'colsample_bytree': 0.5808244190471302}.\n",
      "[I 2019-03-06 21:41:47,924] Finished a trial resulted in value: -0.5756791391568608. Current best value is -0.5856202362102819 with parameters: {'learning_rate': 0.07539524538827853, 'max_depth': 9, 'colsample_bytree': 0.5808244190471302}.\n",
      "[I 2019-03-06 21:41:48,455] Finished a trial resulted in value: -0.57552643065264. Current best value is -0.5856202362102819 with parameters: {'learning_rate': 0.07539524538827853, 'max_depth': 9, 'colsample_bytree': 0.5808244190471302}.\n",
      "[I 2019-03-06 21:41:49,440] Finished a trial resulted in value: -0.5755497205291717. Current best value is -0.5856202362102819 with parameters: {'learning_rate': 0.07539524538827853, 'max_depth': 9, 'colsample_bytree': 0.5808244190471302}.\n",
      "[I 2019-03-06 21:41:50,133] Finished a trial resulted in value: -0.5756213581496383. Current best value is -0.5856202362102819 with parameters: {'learning_rate': 0.07539524538827853, 'max_depth': 9, 'colsample_bytree': 0.5808244190471302}.\n",
      "[I 2019-03-06 21:41:51,001] Finished a trial resulted in value: -0.5755957463012651. Current best value is -0.5856202362102819 with parameters: {'learning_rate': 0.07539524538827853, 'max_depth': 9, 'colsample_bytree': 0.5808244190471302}.\n"
     ]
    }
   ],
   "source": [
    "study = optuna.create_study()\n",
    "study.optimize(xgboost_hyper, n_trials=100)"
   ]
  },
  {
   "cell_type": "code",
   "execution_count": 110,
   "metadata": {
    "ExecuteTime": {
     "end_time": "2019-03-06T12:38:51.599211Z",
     "start_time": "2019-03-06T12:38:51.586241Z"
    }
   },
   "outputs": [
    {
     "data": {
      "text/plain": [
       "{'learning_rate': 0.04885932830309282,\n",
       " 'max_depth': 12,\n",
       " 'colsample_bytree': 0.5161636239935973}"
      ]
     },
     "execution_count": 110,
     "metadata": {},
     "output_type": "execute_result"
    }
   ],
   "source": [
    "study.best_params"
   ]
  },
  {
   "cell_type": "code",
   "execution_count": 111,
   "metadata": {
    "ExecuteTime": {
     "end_time": "2019-03-06T12:38:52.175790Z",
     "start_time": "2019-03-06T12:38:52.164090Z"
    }
   },
   "outputs": [
    {
     "data": {
      "text/plain": [
       "0.5957985862090337"
      ]
     },
     "execution_count": 111,
     "metadata": {},
     "output_type": "execute_result"
    }
   ],
   "source": [
    "- study.best_value"
   ]
  }
 ],
 "metadata": {
  "hide_input": false,
  "kernelspec": {
   "display_name": "Python 3",
   "language": "python",
   "name": "python3"
  },
  "language_info": {
   "codemirror_mode": {
    "name": "ipython",
    "version": 3
   },
   "file_extension": ".py",
   "mimetype": "text/x-python",
   "name": "python",
   "nbconvert_exporter": "python",
   "pygments_lexer": "ipython3",
   "version": "3.7.1"
  },
  "toc": {
   "base_numbering": 1,
   "nav_menu": {},
   "number_sections": true,
   "sideBar": true,
   "skip_h1_title": false,
   "title_cell": "Table of Contents",
   "title_sidebar": "Contents",
   "toc_cell": false,
   "toc_position": {},
   "toc_section_display": true,
   "toc_window_display": true
  }
 },
 "nbformat": 4,
 "nbformat_minor": 2
}
